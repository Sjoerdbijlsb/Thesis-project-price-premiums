{
 "cells": [
  {
   "cell_type": "code",
   "execution_count": 1,
   "id": "9e1ce0ef",
   "metadata": {},
   "outputs": [
    {
     "name": "stderr",
     "output_type": "stream",
     "text": [
      "C:\\Users\\sjoer\\AppData\\Local\\Temp\\ipykernel_15552\\2218005334.py:21: DeprecationWarning: executable_path has been deprecated, please pass in a Service object\n",
      "  driver = webdriver.Chrome(ChromeDriverManager().install())\n"
     ]
    }
   ],
   "source": [
    "import requests \n",
    "from bs4 import BeautifulSoup\n",
    "import time\n",
    "import re\n",
    "import csv\n",
    "import json\n",
    "\n",
    "\n",
    "from selenium import webdriver\n",
    "from selenium.webdriver.chrome.options import Options\n",
    "from webdriver_manager.chrome import ChromeDriverManager\n",
    "from bs4 import BeautifulSoup\n",
    "from time import sleep\n",
    "from datetime import datetime\n",
    "import boto3 \n",
    "\n",
    "\n",
    "\n",
    "user_agent = {'User-agent': 'Mozilla/5.0'}\n",
    "\n",
    "driver = webdriver.Chrome(ChromeDriverManager().install())\n",
    "url = \"https://www.goat.com/timeline/2022?sortBy=relevance&sortOrder=descending\"\n",
    "driver.get(url)\n",
    "\n"
   ]
  },
  {
   "cell_type": "code",
   "execution_count": 26,
   "id": "fc3750a8",
   "metadata": {},
   "outputs": [],
   "source": [
    "# scrape product info from links\n",
    "def product_info():\n",
    "    product_info = []\n",
    "    content = open('snkrtest.json', 'r').readlines() \n",
    "    counter = 0 \n",
    "    \n",
    "    for line in content:\n",
    "        obj = json.loads(line)\n",
    "        counter = counter + 1\n",
    "        if counter>1000: break\n",
    "        driver = webdriver.Chrome(ChromeDriverManager().install())\n",
    "        driver.get(obj['sneaker_url'])\n",
    "        time.sleep(5)\n",
    "        soup = BeautifulSoup(driver.page_source)\n",
    "        \n",
    "        elements = soup.find_all(class_='swiper-slide swiper-slide-duplicate')\n",
    "\n",
    "        #\n",
    "        price_and_size = []\n",
    "        if elements is not None:\n",
    "            try:  \n",
    "                el = elements[0]\n",
    "                for el in elements:\n",
    "                    attributes = str(el)\n",
    "                    attributes = attributes.replace(',', '')\n",
    "                    attr = []\n",
    "\n",
    "                    for item in re.findall(r'[>](.+?)[<]', attributes):\n",
    "                        attr.append(item)\n",
    "\n",
    "                    to_be_attached_price = {'size': attr[1], 'price': re.findall(r'\\$[0-9]+',attr[2],re.UNICODE)[0]}\n",
    "                    price_and_size.append(to_be_attached_price)  \n",
    "\n",
    "            except:\n",
    "                to_be_attached_price = \"None\"\n",
    "                price_and_size.append(to_be_attached_price)\n",
    "                \n",
    "                 \n",
    "            # facts or atttributes of a specific shoe\n",
    "        release_date = soup.find(attrs={\"data-qa\":\"release_date_sort_text\"})\n",
    "        if release_date is not None:\n",
    "            release_date = release_date.get_text()\n",
    "       \n",
    "                \n",
    "        designer = soup.find(attrs={\"data-qa\":\"designer_sort_text\"})\n",
    "        if designer is not None:\n",
    "            designer = designer.get_text()\n",
    "      \n",
    "                \n",
    "        main_color = soup.find(attrs={\"data-qa\":\"main_color_sort_text\"})\n",
    "        if main_color is not None:\n",
    "            main_color = main_color.get_text()\n",
    "        \n",
    "                \n",
    "        upper_material = soup.find(attrs={\"data-qa\":\"upper_material_sort_text\"})\n",
    "        if upper_material is not None:\n",
    "            upper_material = upper_material.get_text()\n",
    "\n",
    "                \n",
    "        category = soup.find(attrs={\"data-qa\":\"category_sort_text\"})\n",
    "        if category is not None:\n",
    "            category = category.get_text()\n",
    "                \n",
    "        technology = soup.find(attrs={\"data-qa\": \"technology_sort_text\"})\n",
    "        if technology is not None:\n",
    "            technology = technology.get_text()\n",
    "            \n",
    "            # featured in collection labels\n",
    "        try: \n",
    "            featured_in =  [x.get_text() for x in soup.find(class_ = 'WindowItemFeaturedIn__Wrapper-sc-81rn64-1 oCoGR').find_all('a')]\n",
    "            \n",
    "            try:\n",
    "                featured_in_1 = featured_in[0]    \n",
    "\n",
    "            except: \n",
    "                 featured_in_1 = \"None\"\n",
    "\n",
    "            try:\n",
    "                featured_in_2 = featured_in[1]    \n",
    "\n",
    "            except: \n",
    "                featured_in_2 = \"None\"\n",
    "\n",
    "            try:\n",
    "                featured_in_3 = featured_in[2]    \n",
    "\n",
    "            except: \n",
    "                featured_in_3 = \"None\"\n",
    "\n",
    "        except:\n",
    "            featured_in_1 = \"None\"\n",
    "            featured_in_2 = \"None\"\n",
    "            featured_in_3 = \"None\"\n",
    "                \n",
    "    \n",
    "        \n",
    "        brand = [x.get_text() for x in soup.find(class_ = 'ProductInfo__InternalContainer-sc-yvcr9v-4').find_all('a')[0]]\n",
    "        \n",
    "        product_name = [x.get_text() for x in soup.find(class_ = 'ProductInfo__InternalContainer-sc-yvcr9v-4').find_all('h1')]\n",
    "    \n",
    "    \n",
    "        \n",
    "            # write dictionary of all info\n",
    "        to_be_attached = {'product_name': product_name[0],\n",
    "                            'brand': brand[0],\n",
    "                            'release_date': release_date,\n",
    "                            'designer': designer,\n",
    "                            'main_color': main_color,\n",
    "                            'upper_material': upper_material,\n",
    "                            'category': category,\n",
    "                            'technology': technology,\n",
    "                            'featured_in_1': featured_in_1,\n",
    "                            'featured_in_2': featured_in_2,\n",
    "                            'featured_in_3': featured_in_3,\n",
    "                            'price_and_size': price_and_size}\n",
    "                    \n",
    "        product_info.append(to_be_attached) \n",
    "        \n",
    "                \n",
    "\n",
    "    return product_info\n",
    "\n",
    "    time.sleep(3)"
   ]
  },
  {
   "cell_type": "code",
   "execution_count": 27,
   "id": "b6b56ec9",
   "metadata": {},
   "outputs": [],
   "source": [
    "all_sneaker_info = product_info()"
   ]
  },
  {
   "cell_type": "code",
   "execution_count": 28,
   "id": "62b83494",
   "metadata": {},
   "outputs": [
    {
     "data": {
      "text/plain": [
       "[]"
      ]
     },
     "execution_count": 28,
     "metadata": {},
     "output_type": "execute_result"
    }
   ],
   "source": [
    "all_sneaker_info"
   ]
  },
  {
   "cell_type": "code",
   "execution_count": 29,
   "id": "20c4635b",
   "metadata": {},
   "outputs": [
    {
     "name": "stdout",
     "output_type": "stream",
     "text": [
      "done!\n"
     ]
    }
   ],
   "source": [
    "with open(\"../data/US_sneaker_data.csv\", \"w\", encoding = 'utf-8', newline='') as csv_file: \n",
    "    writer = csv.writer(csv_file, delimiter = \";\")\n",
    "    writer.writerow([\"product_name\", \"brand\", \"release_date\", \"designer\", \"main_color\", \"upper_material\", \"category\", \"technology\",\"featured_in_1\", \"featured_in_2\", \"featured_in_3\", \"price_and_size\", \"date\"])\n",
    "    timestamp = datetime.now()\n",
    "    for sneaker in all_sneaker_info: \n",
    "        writer.writerow([sneaker['product_name'], sneaker['brand'], sneaker['release_date'], sneaker['designer'], sneaker['main_color'], sneaker['upper_material'], sneaker[\"category\"], sneaker[\"technology\"],\n",
    "                         sneaker[\"featured_in_1\"], sneaker[\"featured_in_2\"], sneaker[\"featured_in_3\"], sneaker[\"price_and_size\"], timestamp])\n",
    "print('done!')"
   ]
  },
  {
   "cell_type": "code",
   "execution_count": null,
   "id": "81854f2e",
   "metadata": {},
   "outputs": [],
   "source": []
  }
 ],
 "metadata": {
  "kernelspec": {
   "display_name": "Python 3 (ipykernel)",
   "language": "python",
   "name": "python3"
  },
  "language_info": {
   "codemirror_mode": {
    "name": "ipython",
    "version": 3
   },
   "file_extension": ".py",
   "mimetype": "text/x-python",
   "name": "python",
   "nbconvert_exporter": "python",
   "pygments_lexer": "ipython3",
   "version": "3.9.7"
  },
  "vscode": {
   "interpreter": {
    "hash": "8773a3c56c4d15bdf3f5fb3b4713d96c2dee42354b1362bc867468632c8854d5"
   }
  }
 },
 "nbformat": 4,
 "nbformat_minor": 5
}
