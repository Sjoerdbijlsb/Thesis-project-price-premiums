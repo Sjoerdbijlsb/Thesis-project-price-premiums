{
 "cells": [
  {
   "cell_type": "code",
   "execution_count": 89,
   "id": "3f828154",
   "metadata": {},
   "outputs": [
    {
     "name": "stderr",
     "output_type": "stream",
     "text": [
      "C:\\Users\\Sjoerd\\AppData\\Local\\Temp\\ipykernel_15660\\617153162.py:15: DeprecationWarning: executable_path has been deprecated, please pass in a Service object\n",
      "  driver = webdriver.Chrome(ChromeDriverManager().install())\n"
     ]
    },
    {
     "ename": "NoSuchWindowException",
     "evalue": "Message: no such window: target window already closed\nfrom unknown error: web view not found\n  (Session info: chrome=109.0.5414.75)\nStacktrace:\nBacktrace:\n\t(No symbol) [0x004A6643]\n\t(No symbol) [0x0043BE21]\n\t(No symbol) [0x0033DA9D]\n\t(No symbol) [0x0031EF6A]\n\t(No symbol) [0x00393AAB]\n\t(No symbol) [0x003A61B6]\n\t(No symbol) [0x0038FB76]\n\t(No symbol) [0x003649C1]\n\t(No symbol) [0x00365E5D]\n\tGetHandleVerifier [0x0071A142+2497106]\n\tGetHandleVerifier [0x007485D3+2686691]\n\tGetHandleVerifier [0x0074BB9C+2700460]\n\tGetHandleVerifier [0x00553B10+635936]\n\t(No symbol) [0x00444A1F]\n\t(No symbol) [0x0044A418]\n\t(No symbol) [0x0044A505]\n\t(No symbol) [0x0045508B]\n\tBaseThreadInitThunk [0x76FDFA29+25]\n\tRtlGetAppContainerNamedObjectPath [0x77B17A9E+286]\n\tRtlGetAppContainerNamedObjectPath [0x77B17A6E+238]\n",
     "output_type": "error",
     "traceback": [
      "\u001b[1;31m---------------------------------------------------------------------------\u001b[0m",
      "\u001b[1;31mNoSuchWindowException\u001b[0m                     Traceback (most recent call last)",
      "Input \u001b[1;32mIn [89]\u001b[0m, in \u001b[0;36m<cell line: 138>\u001b[1;34m()\u001b[0m\n\u001b[0;32m    134\u001b[0m     \u001b[38;5;28;01mreturn\u001b[39;00m all_data\n\u001b[0;32m    136\u001b[0m url_list \u001b[38;5;241m=\u001b[39m [\u001b[38;5;124m\"\u001b[39m\u001b[38;5;124mhttps://sneakernews.com/release-dates/\u001b[39m\u001b[38;5;124m\"\u001b[39m]\n\u001b[1;32m--> 138\u001b[0m news_urls \u001b[38;5;241m=\u001b[39m \u001b[43mseed_urls\u001b[49m\u001b[43m(\u001b[49m\u001b[43murl_list\u001b[49m\u001b[43m)\u001b[49m\n\u001b[0;32m    141\u001b[0m \u001b[38;5;66;03m# Write data to file\u001b[39;00m\n\u001b[0;32m    142\u001b[0m \u001b[38;5;28;01mimport\u001b[39;00m \u001b[38;5;21;01mjson\u001b[39;00m\n",
      "Input \u001b[1;32mIn [89]\u001b[0m, in \u001b[0;36mseed_urls\u001b[1;34m(url_list)\u001b[0m\n\u001b[0;32m     34\u001b[0m last_height \u001b[38;5;241m=\u001b[39m driver\u001b[38;5;241m.\u001b[39mexecute_script(\u001b[38;5;124m\"\u001b[39m\u001b[38;5;124mreturn document.body.scrollHeight\u001b[39m\u001b[38;5;124m\"\u001b[39m)\n\u001b[0;32m     35\u001b[0m \u001b[38;5;28;01mwhile\u001b[39;00m \u001b[38;5;28;01mTrue\u001b[39;00m:\n\u001b[1;32m---> 36\u001b[0m     \u001b[43mdriver\u001b[49m\u001b[38;5;241;43m.\u001b[39;49m\u001b[43mexecute_script\u001b[49m\u001b[43m(\u001b[49m\u001b[38;5;124;43m\"\u001b[39;49m\u001b[38;5;124;43mwindow.scrollTo(0, document.body.scrollHeight);\u001b[39;49m\u001b[38;5;124;43m\"\u001b[39;49m\u001b[43m)\u001b[49m\n\u001b[0;32m     37\u001b[0m     time\u001b[38;5;241m.\u001b[39msleep(\u001b[38;5;241m2\u001b[39m)\n\u001b[0;32m     38\u001b[0m     new_height \u001b[38;5;241m=\u001b[39m driver\u001b[38;5;241m.\u001b[39mexecute_script(\u001b[38;5;124m\"\u001b[39m\u001b[38;5;124mreturn document.body.scrollHeight\u001b[39m\u001b[38;5;124m\"\u001b[39m)\n",
      "File \u001b[1;32m~\\anaconda3\\lib\\site-packages\\selenium\\webdriver\\remote\\webdriver.py:500\u001b[0m, in \u001b[0;36mWebDriver.execute_script\u001b[1;34m(self, script, *args)\u001b[0m\n\u001b[0;32m    497\u001b[0m converted_args \u001b[38;5;241m=\u001b[39m \u001b[38;5;28mlist\u001b[39m(args)\n\u001b[0;32m    498\u001b[0m command \u001b[38;5;241m=\u001b[39m Command\u001b[38;5;241m.\u001b[39mW3C_EXECUTE_SCRIPT\n\u001b[1;32m--> 500\u001b[0m \u001b[38;5;28;01mreturn\u001b[39;00m \u001b[38;5;28;43mself\u001b[39;49m\u001b[38;5;241;43m.\u001b[39;49m\u001b[43mexecute\u001b[49m\u001b[43m(\u001b[49m\u001b[43mcommand\u001b[49m\u001b[43m,\u001b[49m\u001b[43m \u001b[49m\u001b[43m{\u001b[49m\u001b[38;5;124;43m\"\u001b[39;49m\u001b[38;5;124;43mscript\u001b[39;49m\u001b[38;5;124;43m\"\u001b[39;49m\u001b[43m:\u001b[49m\u001b[43m \u001b[49m\u001b[43mscript\u001b[49m\u001b[43m,\u001b[49m\u001b[43m \u001b[49m\u001b[38;5;124;43m\"\u001b[39;49m\u001b[38;5;124;43margs\u001b[39;49m\u001b[38;5;124;43m\"\u001b[39;49m\u001b[43m:\u001b[49m\u001b[43m \u001b[49m\u001b[43mconverted_args\u001b[49m\u001b[43m}\u001b[49m\u001b[43m)\u001b[49m[\u001b[38;5;124m\"\u001b[39m\u001b[38;5;124mvalue\u001b[39m\u001b[38;5;124m\"\u001b[39m]\n",
      "File \u001b[1;32m~\\anaconda3\\lib\\site-packages\\selenium\\webdriver\\remote\\webdriver.py:440\u001b[0m, in \u001b[0;36mWebDriver.execute\u001b[1;34m(self, driver_command, params)\u001b[0m\n\u001b[0;32m    438\u001b[0m response \u001b[38;5;241m=\u001b[39m \u001b[38;5;28mself\u001b[39m\u001b[38;5;241m.\u001b[39mcommand_executor\u001b[38;5;241m.\u001b[39mexecute(driver_command, params)\n\u001b[0;32m    439\u001b[0m \u001b[38;5;28;01mif\u001b[39;00m response:\n\u001b[1;32m--> 440\u001b[0m     \u001b[38;5;28;43mself\u001b[39;49m\u001b[38;5;241;43m.\u001b[39;49m\u001b[43merror_handler\u001b[49m\u001b[38;5;241;43m.\u001b[39;49m\u001b[43mcheck_response\u001b[49m\u001b[43m(\u001b[49m\u001b[43mresponse\u001b[49m\u001b[43m)\u001b[49m\n\u001b[0;32m    441\u001b[0m     response[\u001b[38;5;124m\"\u001b[39m\u001b[38;5;124mvalue\u001b[39m\u001b[38;5;124m\"\u001b[39m] \u001b[38;5;241m=\u001b[39m \u001b[38;5;28mself\u001b[39m\u001b[38;5;241m.\u001b[39m_unwrap_value(response\u001b[38;5;241m.\u001b[39mget(\u001b[38;5;124m\"\u001b[39m\u001b[38;5;124mvalue\u001b[39m\u001b[38;5;124m\"\u001b[39m, \u001b[38;5;28;01mNone\u001b[39;00m))\n\u001b[0;32m    442\u001b[0m     \u001b[38;5;28;01mreturn\u001b[39;00m response\n",
      "File \u001b[1;32m~\\anaconda3\\lib\\site-packages\\selenium\\webdriver\\remote\\errorhandler.py:245\u001b[0m, in \u001b[0;36mErrorHandler.check_response\u001b[1;34m(self, response)\u001b[0m\n\u001b[0;32m    243\u001b[0m         alert_text \u001b[38;5;241m=\u001b[39m value[\u001b[38;5;124m\"\u001b[39m\u001b[38;5;124malert\u001b[39m\u001b[38;5;124m\"\u001b[39m]\u001b[38;5;241m.\u001b[39mget(\u001b[38;5;124m\"\u001b[39m\u001b[38;5;124mtext\u001b[39m\u001b[38;5;124m\"\u001b[39m)\n\u001b[0;32m    244\u001b[0m     \u001b[38;5;28;01mraise\u001b[39;00m exception_class(message, screen, stacktrace, alert_text)  \u001b[38;5;66;03m# type: ignore[call-arg]  # mypy is not smart enough here\u001b[39;00m\n\u001b[1;32m--> 245\u001b[0m \u001b[38;5;28;01mraise\u001b[39;00m exception_class(message, screen, stacktrace)\n",
      "\u001b[1;31mNoSuchWindowException\u001b[0m: Message: no such window: target window already closed\nfrom unknown error: web view not found\n  (Session info: chrome=109.0.5414.75)\nStacktrace:\nBacktrace:\n\t(No symbol) [0x004A6643]\n\t(No symbol) [0x0043BE21]\n\t(No symbol) [0x0033DA9D]\n\t(No symbol) [0x0031EF6A]\n\t(No symbol) [0x00393AAB]\n\t(No symbol) [0x003A61B6]\n\t(No symbol) [0x0038FB76]\n\t(No symbol) [0x003649C1]\n\t(No symbol) [0x00365E5D]\n\tGetHandleVerifier [0x0071A142+2497106]\n\tGetHandleVerifier [0x007485D3+2686691]\n\tGetHandleVerifier [0x0074BB9C+2700460]\n\tGetHandleVerifier [0x00553B10+635936]\n\t(No symbol) [0x00444A1F]\n\t(No symbol) [0x0044A418]\n\t(No symbol) [0x0044A505]\n\t(No symbol) [0x0045508B]\n\tBaseThreadInitThunk [0x76FDFA29+25]\n\tRtlGetAppContainerNamedObjectPath [0x77B17A9E+286]\n\tRtlGetAppContainerNamedObjectPath [0x77B17A6E+238]\n"
     ]
    }
   ],
   "source": [
    "#!/usr/bin/env python\n",
    "# coding: utf-8\n",
    "\n",
    "import time\n",
    "from selenium import webdriver\n",
    "from webdriver_manager.chrome import ChromeDriverManager\n",
    "from bs4 import BeautifulSoup\n",
    "from datetime import datetime\n",
    "import requests\n",
    "from selenium.webdriver.common.by import By\n",
    "\n",
    "\n",
    "\n",
    "\n",
    "driver = webdriver.Chrome(ChromeDriverManager().install())\n",
    "url = \"https://sneakernews.com/release-dates/\"\n",
    "driver.get(url)\n",
    "\n",
    "button = driver.find_element(By.ID,'CybotCookiebotDialogBodyLevelButtonLevelOptinAllowAll')\n",
    "# Click the button\n",
    "button.click()\n",
    "time.sleep(2)\n",
    "\n",
    "def seed_urls(url_list):\n",
    "    all_data = []\n",
    "    for url in url_list:\n",
    "        # Load in product page via selenium\n",
    "        # Wait for page to load\n",
    "        time.sleep(2)  \n",
    "        scroll_pause_time = 6  # in seconds\n",
    "        screen_height = driver.execute_script(\"return window.screen.height;\")\n",
    "        \n",
    "        \n",
    "        last_height = driver.execute_script(\"return document.body.scrollHeight\")\n",
    "        while True:\n",
    "            driver.execute_script(\"window.scrollTo(0, document.body.scrollHeight);\")\n",
    "            time.sleep(2)\n",
    "            new_height = driver.execute_script(\"return document.body.scrollHeight\")\n",
    "            if new_height == last_height:\n",
    "                break\n",
    "            last_height = new_height\n",
    "\n",
    "\n",
    "        # Extract data from page\n",
    "        html = driver.page_source\n",
    "        soup = BeautifulSoup(html, 'html.parser')\n",
    "        data = []\n",
    "        \n",
    "        for el in soup.find_all(class_ = 'content-box'): \n",
    "            # extract release date\n",
    "            release_date_element = el.select_one('.release-date')\n",
    "            if release_date_element:\n",
    "                release_date = release_date_element.get_text().strip()\n",
    "            else:\n",
    "                release_date = None\n",
    "                \n",
    "\n",
    "            # extract shoe name\n",
    "            shoe_name_element = el.select_one('h2 a')\n",
    "            if shoe_name_element:\n",
    "                shoe_name = shoe_name_element.get_text().strip()\n",
    "            else:\n",
    "                shoe_name = None\n",
    "\n",
    "            # extract shoe price\n",
    "            shoe_price_element = el.select_one('.release-price')\n",
    "            if shoe_price_element:\n",
    "                shoe_price = shoe_price_element.get_text().strip()\n",
    "            else:\n",
    "                shoe_price = None\n",
    "\n",
    "            # extract colorway\n",
    "            #colorway_element = el.find('p', text='Color:').find_next_sibling('p')\n",
    "            #if colorway_element:\n",
    "                #colorway = colorway_element.text()\n",
    "            #else:\n",
    "                #colorway = None\n",
    "\n",
    "            # extract style code\n",
    "            style_code_element = el.find('.post-data span:contains(\"Style Code:\") + span')\n",
    "            if style_code_element:\n",
    "                style_code = style_code_element.get_text().strip()\n",
    "            else:\n",
    "                style_code = None\n",
    "\n",
    "            # extract region\n",
    "            region_element = el.select_one('.post-data span:contains(\"Region:\") + span')\n",
    "            if region_element:\n",
    "                region = region_element.get_text().strip()\n",
    "            else:\n",
    "                region = None\n",
    "\n",
    "            # extract links to retailers\n",
    "            retailers_links_elements = el.find('.sn_where_buy_box a')\n",
    "            if retailers_links_elements:\n",
    "                retailers_links = [a['href'] for a in retailers_links_elements]\n",
    "            else:\n",
    "                retailers_links = None\n",
    "                \n",
    "            \n",
    "\n",
    "\n",
    "            # extract page link\n",
    "            page_link = el.select_one('href')\n",
    "            if page_link:\n",
    "                page_link = page_link.get_text()\n",
    "            else:\n",
    "                page_link = None\n",
    "                \n",
    "            \n",
    "                \n",
    "            \n",
    "                \n",
    "            print('Release date:', release_date)\n",
    "            print('Shoe name:', shoe_name)\n",
    "            print('Shoe price:', shoe_price)\n",
    "            print('Colorway:', colorway)\n",
    "            print('Style code:', style_code)\n",
    "            print('Region:', region)\n",
    "            print('Retailers links:', retailers_links)\n",
    "            print('page_link', page_link)\n",
    "\n",
    "\n",
    "            data.append({\n",
    "                    'release_date_element': release_date_element,\n",
    "                    'shoe_name_element': shoe_name_element,\n",
    "                    'shoe_price_element': shoe_price_element,\n",
    "                    'colorway_element': colorway_element,\n",
    "                    'style_code_element': style_code_element,\n",
    "                    'region_element': region_element,\n",
    "                    'retailers_links_elements': retailers_links_elements,\n",
    "                    'timestamp': int(time.time())\n",
    "                }) \n",
    "    return all_data\n",
    "\n",
    "url_list = [\"https://sneakernews.com/release-dates/\"]\n",
    "\n",
    "news_urls = seed_urls(url_list)\n",
    "\n",
    "\n",
    "# Write data to file\n",
    "import json\n",
    "with open('../../data/sneaker_news.json', 'a', encoding = 'utf-8') as f:\n",
    "    for item in news_urls:\n",
    "        f.write(json.dumps(item))\n",
    "        f.write('\\n')\n"
   ]
  },
  {
   "cell_type": "code",
   "execution_count": null,
   "id": "9d1f1cef",
   "metadata": {},
   "outputs": [],
   "source": [
    "html = driver.page_source\n",
    "soup = BeautifulSoup(html, 'html.parser')"
   ]
  },
  {
   "cell_type": "code",
   "execution_count": 85,
   "id": "b72fdfd9",
   "metadata": {},
   "outputs": [],
   "source": [
    "for el in soup.find_all(class_ = 'content-box'): \n",
    "    shoe_name_element = el.select_one('h2 a')\n",
    "    if shoe_name_element:\n",
    "            shoe_name = shoe_name_element.get_text().strip()\n",
    "    else:\n",
    "            shoe_name = None"
   ]
  },
  {
   "cell_type": "code",
   "execution_count": 86,
   "id": "d946b286",
   "metadata": {},
   "outputs": [
    {
     "data": {
      "text/plain": [
       "'Diadora N9002'"
      ]
     },
     "execution_count": 86,
     "metadata": {},
     "output_type": "execute_result"
    }
   ],
   "source": [
    "shoe_name"
   ]
  },
  {
   "cell_type": "code",
   "execution_count": 64,
   "id": "7f22cb76",
   "metadata": {},
   "outputs": [
    {
     "ename": "TypeError",
     "evalue": "'NoneType' object is not iterable",
     "output_type": "error",
     "traceback": [
      "\u001b[1;31m---------------------------------------------------------------------------\u001b[0m",
      "\u001b[1;31mTypeError\u001b[0m                                 Traceback (most recent call last)",
      "Input \u001b[1;32mIn [64]\u001b[0m, in \u001b[0;36m<cell line: 3>\u001b[1;34m()\u001b[0m\n\u001b[0;32m      2\u001b[0m \u001b[38;5;28;01mimport\u001b[39;00m \u001b[38;5;21;01mjson\u001b[39;00m\n\u001b[0;32m      3\u001b[0m \u001b[38;5;28;01mwith\u001b[39;00m \u001b[38;5;28mopen\u001b[39m(\u001b[38;5;124m'\u001b[39m\u001b[38;5;124m../../data/sneaker_news.json\u001b[39m\u001b[38;5;124m'\u001b[39m, \u001b[38;5;124m'\u001b[39m\u001b[38;5;124ma\u001b[39m\u001b[38;5;124m'\u001b[39m, encoding \u001b[38;5;241m=\u001b[39m \u001b[38;5;124m'\u001b[39m\u001b[38;5;124mutf-8\u001b[39m\u001b[38;5;124m'\u001b[39m) \u001b[38;5;28;01mas\u001b[39;00m f:\n\u001b[1;32m----> 4\u001b[0m     \u001b[38;5;28;01mfor\u001b[39;00m item \u001b[38;5;129;01min\u001b[39;00m news_urls:\n\u001b[0;32m      5\u001b[0m         f\u001b[38;5;241m.\u001b[39mwrite(json\u001b[38;5;241m.\u001b[39mdumps(item))\n\u001b[0;32m      6\u001b[0m         f\u001b[38;5;241m.\u001b[39mwrite(\u001b[38;5;124m'\u001b[39m\u001b[38;5;130;01m\\n\u001b[39;00m\u001b[38;5;124m'\u001b[39m)\n",
      "\u001b[1;31mTypeError\u001b[0m: 'NoneType' object is not iterable"
     ]
    }
   ],
   "source": [
    "# Write data to file\n",
    "import json\n",
    "with open('../../data/sneaker_news.json', 'a', encoding = 'utf-8') as f:\n",
    "    for item in news_urls:\n",
    "        f.write(json.dumps(item))\n",
    "        f.write('\\n')\n"
   ]
  },
  {
   "cell_type": "code",
   "execution_count": null,
   "id": "83941c61",
   "metadata": {},
   "outputs": [],
   "source": []
  },
  {
   "cell_type": "code",
   "execution_count": null,
   "id": "c7f86d47",
   "metadata": {},
   "outputs": [],
   "source": []
  }
 ],
 "metadata": {
  "kernelspec": {
   "display_name": "Python 3 (ipykernel)",
   "language": "python",
   "name": "python3"
  },
  "language_info": {
   "codemirror_mode": {
    "name": "ipython",
    "version": 3
   },
   "file_extension": ".py",
   "mimetype": "text/x-python",
   "name": "python",
   "nbconvert_exporter": "python",
   "pygments_lexer": "ipython3",
   "version": "3.9.12"
  }
 },
 "nbformat": 4,
 "nbformat_minor": 5
}
