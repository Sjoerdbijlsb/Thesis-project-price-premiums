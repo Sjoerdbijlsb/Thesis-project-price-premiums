{
 "cells": [
  {
   "cell_type": "markdown",
   "id": "31142bcf",
   "metadata": {},
   "source": [
    "# 1.Installation"
   ]
  },
  {
   "cell_type": "code",
   "execution_count": 1,
   "id": "93a6adda",
   "metadata": {},
   "outputs": [],
   "source": [
    "import requests \n",
    "from bs4 import BeautifulSoup\n",
    "import time\n",
    "import re\n",
    "import csv\n",
    "\n",
    "\n",
    "from selenium import webdriver\n",
    "\n",
    "from selenium.webdriver.chrome.options import Options\n",
    "from webdriver_manager.chrome import ChromeDriverManager\n",
    "from bs4 import BeautifulSoup\n",
    "import requests\n",
    "from time import sleep\n",
    "from datetime import datetime\n",
    "\n",
    "\n",
    "\n",
    "\n",
    "user_agent = {'User-agent': 'Mozilla/5.0'}\n"
   ]
  },
  {
   "cell_type": "markdown",
   "id": "c50cb83a",
   "metadata": {},
   "source": [
    "# 2.Load webdriver"
   ]
  },
  {
   "cell_type": "code",
   "execution_count": 3,
   "id": "d0363095",
   "metadata": {},
   "outputs": [
    {
     "name": "stderr",
     "output_type": "stream",
     "text": [
      "C:\\Users\\sjoer\\AppData\\Local\\Temp\\ipykernel_23956\\2870365536.py:3: DeprecationWarning: executable_path has been deprecated, please pass in a Service object\n",
      "  driver = webdriver.Chrome(ChromeDriverManager().install())\n"
     ]
    }
   ],
   "source": [
    "# Load in product page via selenium\n",
    "#change url based on which page to run\n",
    "driver = webdriver.Chrome(ChromeDriverManager().install())\n",
    "url = \"https://www.goat.com/timeline/future\"\n",
    "driver.get(url)\n",
    "\n",
    "\n"
   ]
  },
  {
   "cell_type": "markdown",
   "id": "a11b8f3c",
   "metadata": {},
   "source": [
    "# 3.Collect the seeds "
   ]
  },
  {
   "cell_type": "code",
   "execution_count": 4,
   "id": "bf43584e",
   "metadata": {},
   "outputs": [],
   "source": [
    "# get all the links for specified page via infinite scroll\n",
    "def product_urls():\n",
    "        \n",
    "    time.sleep(2)  # 2 seconds to load the page\n",
    "    scroll_pause_time = 1 # in seconds\n",
    "    screen_height = driver.execute_script(\"return window.screen.height;\")   # get the screen height of the web\n",
    "    i = 1\n",
    "\n",
    "    while True:\n",
    "        # scroll one screen height each time\n",
    "        driver.execute_script(\"window.scrollTo(0, {screen_height}*{i});\".format(screen_height=screen_height, i=i))  \n",
    "        i += 1\n",
    "        time.sleep(scroll_pause_time)\n",
    "        # update scroll height each time after scrolled, as the scroll height can change after we scrolled the page\n",
    "        scroll_height = driver.execute_script(\"return document.body.scrollHeight;\")  \n",
    "        # Break the loop when the height we need to scroll to is larger than the total scroll height\n",
    "        if (screen_height) * i > scroll_height:\n",
    "            break \n",
    "\n",
    "    soup = BeautifulSoup(driver.page_source)\n",
    "    \n",
    "    sneaker_urls = []  \n",
    "    for el in soup.find_all(attrs={\"data-qa\" : \"grid_cell_product\"}):\n",
    "        base_url = 'https://www.goat.com'\n",
    "        sneaker_url = el.find('a')['href']\n",
    "        sneaker_url = base_url + sneaker_url                        \n",
    "    \n",
    "    \n",
    "        \n",
    "        sneaker_urls.append({'sneaker url' : sneaker_url,\n",
    "                            'timestamp': int(time.time())})  \n",
    "        \n",
    "\n",
    "    return sneaker_urls"
   ]
  },
  {
   "cell_type": "code",
   "execution_count": 5,
   "id": "456a2b6d",
   "metadata": {},
   "outputs": [
    {
     "data": {
      "text/plain": [
       "[{'sneaker url': 'https://www.goat.com/sneakers/air-jordan-4-retro-se-craft-dv3742-021',\n",
       "  'timestamp': 1672941274},\n",
       " {'sneaker url': 'https://www.goat.com/sneakers/air-jordan-5-retro-unc-dv1310-401',\n",
       "  'timestamp': 1672941274},\n",
       " {'sneaker url': 'https://www.goat.com/sneakers/air-jordan-3-retro-white-cement-reimagined-dn3707-100',\n",
       "  'timestamp': 1672941274},\n",
       " {'sneaker url': 'https://www.goat.com/sneakers/air-jordan-1-retro-high-85-og-black-white-bq4422-001',\n",
       "  'timestamp': 1672941274},\n",
       " {'sneaker url': 'https://www.goat.com/sneakers/wmns-air-jordan-4-retro-seafoam-aq9129-103',\n",
       "  'timestamp': 1672941274},\n",
       " {'sneaker url': 'https://www.goat.com/sneakers/air-jordan-13-retro-playoff-2023-414571-062',\n",
       "  'timestamp': 1672941274},\n",
       " {'sneaker url': 'https://www.goat.com/sneakers/air-jordan-1-retro-high-og-white-cement-dz5485-052',\n",
       "  'timestamp': 1672941274},\n",
       " {'sneaker url': 'https://www.goat.com/sneakers/wmns-air-more-uptempo-rosewood-dv1137-100',\n",
       "  'timestamp': 1672941274},\n",
       " {'sneaker url': 'https://www.goat.com/sneakers/air-jordan-5-retro-aqua-dd0587-047',\n",
       "  'timestamp': 1672941274},\n",
       " {'sneaker url': 'https://www.goat.com/sneakers/air-jordan-6-retro-cool-grey-ct8529-100',\n",
       "  'timestamp': 1672941274},\n",
       " {'sneaker url': 'https://www.goat.com/sneakers/air-jordan-2-retro-lucky-green-dr8884-103',\n",
       "  'timestamp': 1672941274},\n",
       " {'sneaker url': 'https://www.goat.com/sneakers/air-jordan-4-retro-se-gs-craft-dv2262-021',\n",
       "  'timestamp': 1672941274},\n",
       " {'sneaker url': 'https://www.goat.com/sneakers/wmns-air-jordan-1-retro-high-og-reverse-laney-fd2596-700',\n",
       "  'timestamp': 1672941274},\n",
       " {'sneaker url': 'https://www.goat.com/sneakers/jeremy-scott-x-forum-wings-4-0-black-opal-ie6862',\n",
       "  'timestamp': 1672941274},\n",
       " {'sneaker url': 'https://www.goat.com/sneakers/wmns-air-max-97-og-metallic-gold-2023-dq9131-700',\n",
       "  'timestamp': 1672941274},\n",
       " {'sneaker url': 'https://www.goat.com/sneakers/jeremy-scott-x-forum-wings-4-0-white-opal-ie6861',\n",
       "  'timestamp': 1672941274},\n",
       " {'sneaker url': 'https://www.goat.com/sneakers/marvel-x-air-jordan-1-retro-high-og-spider-man-across-the-spider-verse-dv1748-601',\n",
       "  'timestamp': 1672941274},\n",
       " {'sneaker url': 'https://www.goat.com/sneakers/dunk-low-gs-all-star-2023-dv1693-401',\n",
       "  'timestamp': 1672941274},\n",
       " {'sneaker url': 'https://www.goat.com/sneakers/wmns-air-jordan-14-retro-low-metallic-silver-dh4121-060',\n",
       "  'timestamp': 1672941274},\n",
       " {'sneaker url': 'https://www.goat.com/sneakers/air-max-97-og-metallic-gold-2023-dm0028-700',\n",
       "  'timestamp': 1672941274},\n",
       " {'sneaker url': 'https://www.goat.com/sneakers/air-deldon-1-safety-orange-dm4096-800',\n",
       "  'timestamp': 1672941274},\n",
       " {'sneaker url': 'https://www.goat.com/sneakers/air-jordan-5-retro-gs-aqua-440888-047',\n",
       "  'timestamp': 1672941274},\n",
       " {'sneaker url': 'https://www.goat.com/sneakers/air-force-1-low-gs-all-star-2023-dz4883-100',\n",
       "  'timestamp': 1672941274},\n",
       " {'sneaker url': 'https://www.goat.com/sneakers/air-jordan-2-retro-gs-lucky-green-dq8562-103',\n",
       "  'timestamp': 1672941274},\n",
       " {'sneaker url': 'https://www.goat.com/sneakers/air-jordan-6-retro-gs-cool-grey-384665-100',\n",
       "  'timestamp': 1672941274},\n",
       " {'sneaker url': 'https://www.goat.com/sneakers/marvel-x-air-jordan-1-retro-high-og-td-spider-man-across-the-spider-verse-dv1750-601',\n",
       "  'timestamp': 1672941274},\n",
       " {'sneaker url': 'https://www.goat.com/sneakers/marvel-x-air-jordan-1-retro-high-og-gs-spider-man-across-the-spider-verse-dv1753-601',\n",
       "  'timestamp': 1672941274},\n",
       " {'sneaker url': 'https://www.goat.com/sneakers/air-jordan-2-retro-ps-lucky-green-dq8564-103',\n",
       "  'timestamp': 1672941274},\n",
       " {'sneaker url': 'https://www.goat.com/sneakers/air-jordan-1-retro-high-og-lucky-green-dz5485-031',\n",
       "  'timestamp': 1672941274},\n",
       " {'sneaker url': 'https://www.goat.com/sneakers/air-jordan-5-retro-td-aqua-440890-047',\n",
       "  'timestamp': 1672941274},\n",
       " {'sneaker url': 'https://www.goat.com/sneakers/air-jordan-2-retro-td-lucky-green-dq8563-103',\n",
       "  'timestamp': 1672941274},\n",
       " {'sneaker url': 'https://www.goat.com/sneakers/zoom-kobe-4-protro-white-gold-emerald-fj9363-100',\n",
       "  'timestamp': 1672941274},\n",
       " {'sneaker url': 'https://www.goat.com/sneakers/air-jordan-1-retro-low-og-black-cement-cz0790-001',\n",
       "  'timestamp': 1672941274},\n",
       " {'sneaker url': 'https://www.goat.com/sneakers/marvel-x-air-jordan-1-retro-high-og-ps-spider-man-across-the-spider-verse-dv1749-601',\n",
       "  'timestamp': 1672941274},\n",
       " {'sneaker url': 'https://www.goat.com/sneakers/air-jordan-1-retro-high-og-gs-white-cement-fd1437-052',\n",
       "  'timestamp': 1672941274},\n",
       " {'sneaker url': 'https://www.goat.com/sneakers/air-jordan-1-retro-high-og-ps-reverse-laney-fd2597-700',\n",
       "  'timestamp': 1672941274},\n",
       " {'sneaker url': 'https://www.goat.com/sneakers/air-jordan-8-retro-playoff-2023-305381-062',\n",
       "  'timestamp': 1672941274},\n",
       " {'sneaker url': 'https://www.goat.com/sneakers/air-jordan-1-retro-high-og-washed-black-dz5485-051',\n",
       "  'timestamp': 1672941274},\n",
       " {'sneaker url': 'https://www.goat.com/sneakers/wmns-air-jordan-2-low-look-up-in-the-air-dx4401-146',\n",
       "  'timestamp': 1672941274},\n",
       " {'sneaker url': 'https://www.goat.com/sneakers/air-jordan-5-retro-se-craft-fd9222-180',\n",
       "  'timestamp': 1672941274},\n",
       " {'sneaker url': 'https://www.goat.com/sneakers/force-1-low-td-all-star-2023-fj3487-100',\n",
       "  'timestamp': 1672941274},\n",
       " {'sneaker url': 'https://www.goat.com/sneakers/air-jordan-5-retro-ps-aqua-440889-047',\n",
       "  'timestamp': 1672941274},\n",
       " {'sneaker url': 'https://www.goat.com/sneakers/wmns-air-jordan-3-retro-lucky-green-ck9646-136',\n",
       "  'timestamp': 1672941274}]"
      ]
     },
     "execution_count": 5,
     "metadata": {},
     "output_type": "execute_result"
    }
   ],
   "source": [
    "sneaker_urls = product_urls()\n",
    "sneaker_urls"
   ]
  },
  {
   "cell_type": "code",
   "execution_count": 6,
   "id": "f0614115",
   "metadata": {},
   "outputs": [],
   "source": [
    "#started run of timeline 2022 page of sneakers on 07/10/2022 16:03\n",
    "import json\n",
    "f = open('snkrtest.json', 'w', encoding = 'utf-8')\n",
    "for item in sneaker_urls:\n",
    "    f.write(json.dumps(item))\n",
    "    f.write('\\n')\n",
    "f.close()"
   ]
  }
 ],
 "metadata": {
  "kernelspec": {
   "display_name": "Python 3 (ipykernel)",
   "language": "python",
   "name": "python3"
  },
  "language_info": {
   "codemirror_mode": {
    "name": "ipython",
    "version": 3
   },
   "file_extension": ".py",
   "mimetype": "text/x-python",
   "name": "python",
   "nbconvert_exporter": "python",
   "pygments_lexer": "ipython3",
   "version": "3.9.7"
  },
  "vscode": {
   "interpreter": {
    "hash": "8773a3c56c4d15bdf3f5fb3b4713d96c2dee42354b1362bc867468632c8854d5"
   }
  }
 },
 "nbformat": 4,
 "nbformat_minor": 5
}
