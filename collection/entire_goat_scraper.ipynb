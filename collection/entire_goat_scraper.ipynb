{
 "cells": [
  {
   "cell_type": "markdown",
   "id": "31142bcf",
   "metadata": {},
   "source": [
    "# 1.Installation"
   ]
  },
  {
   "cell_type": "code",
   "execution_count": 1,
   "id": "93a6adda",
   "metadata": {},
   "outputs": [],
   "source": [
    "import requests \n",
    "from bs4 import BeautifulSoup\n",
    "import time\n",
    "import re\n",
    "import csv\n",
    "\n",
    "\n",
    "from selenium import webdriver\n",
    "\n",
    "from selenium.webdriver.chrome.options import Options\n",
    "from webdriver_manager.chrome import ChromeDriverManager\n",
    "from bs4 import BeautifulSoup\n",
    "import requests\n",
    "from time import sleep\n",
    "from datetime import datetime\n",
    "\n",
    "\n",
    "\n",
    "\n",
    "user_agent = {'User-agent': 'Mozilla/5.0'}\n"
   ]
  },
  {
   "cell_type": "markdown",
   "id": "c50cb83a",
   "metadata": {},
   "source": [
    "# 2.Load webdriver"
   ]
  },
  {
   "cell_type": "code",
   "execution_count": 3,
   "id": "d0363095",
   "metadata": {},
   "outputs": [
    {
     "name": "stderr",
     "output_type": "stream",
     "text": [
      "C:\\Users\\sjoer\\AppData\\Local\\Temp\\ipykernel_23956\\2870365536.py:3: DeprecationWarning: executable_path has been deprecated, please pass in a Service object\n",
      "  driver = webdriver.Chrome(ChromeDriverManager().install())\n"
     ]
    }
   ],
   "source": [
    "# Load in product page via selenium\n",
    "#change url based on which page to run\n",
    "driver = webdriver.Chrome(ChromeDriverManager().install())\n",
    "url = \"https://www.goat.com/timeline/future\"\n",
    "driver.get(url)\n",
    "\n",
    "\n"
   ]
  },
  {
   "cell_type": "markdown",
   "id": "a11b8f3c",
   "metadata": {},
   "source": [
    "# 3.Collect the seeds "
   ]
  },
  {
   "cell_type": "code",
   "execution_count": 4,
   "id": "bf43584e",
   "metadata": {},
   "outputs": [],
   "source": [
    "# get all the links for specified page via infinite scroll\n",
    "def product_urls():\n",
    "        \n",
    "    time.sleep(2)  # 2 seconds to load the page\n",
    "    scroll_pause_time = 1 # in seconds\n",
    "    screen_height = driver.execute_script(\"return window.screen.height;\")   # get the screen height of the web\n",
    "    i = 1\n",
    "\n",
    "    while True:\n",
    "        # scroll one screen height each time\n",
    "        driver.execute_script(\"window.scrollTo(0, {screen_height}*{i});\".format(screen_height=screen_height, i=i))  \n",
    "        i += 1\n",
    "        time.sleep(scroll_pause_time)\n",
    "        # update scroll height each time after scrolled, as the scroll height can change after we scrolled the page\n",
    "        scroll_height = driver.execute_script(\"return document.body.scrollHeight;\")  \n",
    "        # Break the loop when the height we need to scroll to is larger than the total scroll height\n",
    "        if (screen_height) * i > scroll_height:\n",
    "            break \n",
    "\n",
    "    soup = BeautifulSoup(driver.page_source)\n",
    "    \n",
    "    sneaker_urls = []  \n",
    "    for el in soup.find_all(attrs={\"data-qa\" : \"grid_cell_product\"}):\n",
    "        base_url = 'https://www.goat.com'\n",
    "        sneaker_url = el.find('a')['href']\n",
    "        sneaker_url = base_url + sneaker_url                        \n",
    "    \n",
    "    \n",
    "        \n",
    "        sneaker_urls.append({'sneaker url' : sneaker_url,\n",
    "                            'timestamp': int(time.time())})  \n",
    "        \n",
    "\n",
    "    return sneaker_urls"
   ]
  },
  {
   "cell_type": "code",
   "execution_count": 5,
   "id": "456a2b6d",
   "metadata": {},
   "outputs": [
    {
     "data": {
      "text/plain": [
       "[{'sneaker url': 'https://www.goat.com/sneakers/air-jordan-4-retro-se-craft-dv3742-021',\n",
       "  'timestamp': 1672941274},\n",
       " {'sneaker url': 'https://www.goat.com/sneakers/air-jordan-5-retro-unc-dv1310-401',\n",
       "  'timestamp': 1672941274},\n",
       " {'sneaker url': 'https://www.goat.com/sneakers/air-jordan-3-retro-white-cement-reimagined-dn3707-100',\n",
       "  'timestamp': 1672941274},\n",
       " {'sneaker url': 'https://www.goat.com/sneakers/air-jordan-1-retro-high-85-og-black-white-bq4422-001',\n",
       "  'timestamp': 1672941274},\n",
       " {'sneaker url': 'https://www.goat.com/sneakers/wmns-air-jordan-4-retro-seafoam-aq9129-103',\n",
       "  'timestamp': 1672941274},\n",
       " {'sneaker url': 'https://www.goat.com/sneakers/air-jordan-13-retro-playoff-2023-414571-062',\n",
       "  'timestamp': 1672941274},\n",
       " {'sneaker url': 'https://www.goat.com/sneakers/air-jordan-1-retro-high-og-white-cement-dz5485-052',\n",
       "  'timestamp': 1672941274},\n",
       " {'sneaker url': 'https://www.goat.com/sneakers/wmns-air-more-uptempo-rosewood-dv1137-100',\n",
       "  'timestamp': 1672941274},\n",
       " {'sneaker url': 'https://www.goat.com/sneakers/air-jordan-5-retro-aqua-dd0587-047',\n",
       "  'timestamp': 1672941274},\n",
       " {'sneaker url': 'https://www.goat.com/sneakers/air-jordan-6-retro-cool-grey-ct8529-100',\n",
       "  'timestamp': 1672941274},\n",
       " {'sneaker url': 'https://www.goat.com/sneakers/air-jordan-2-retro-lucky-green-dr8884-103',\n",
       "  'timestamp': 1672941274},\n",
       " {'sneaker url': 'https://www.goat.com/sneakers/air-jordan-4-retro-se-gs-craft-dv2262-021',\n",
       "  'timestamp': 1672941274},\n",
       " {'sneaker url': 'https://www.goat.com/sneakers/wmns-air-jordan-1-retro-high-og-reverse-laney-fd2596-700',\n",
       "  'timestamp': 1672941274},\n",
       " {'sneaker url': 'https://www.goat.com/sneakers/jeremy-scott-x-forum-wings-4-0-black-opal-ie6862',\n",
       "  'timestamp': 1672941274},\n",
       " {'sneaker url': 'https://www.goat.com/sneakers/wmns-air-max-97-og-metallic-gold-2023-dq9131-700',\n",
       "  'timestamp': 1672941274},\n",
       " {'sneaker url': 'https://www.goat.com/sneakers/jeremy-scott-x-forum-wings-4-0-white-opal-ie6861',\n",
       "  'timestamp': 1672941274},\n",
       " {'sneaker url': 'https://www.goat.com/sneakers/marvel-x-air-jordan-1-retro-high-og-spider-man-across-the-spider-verse-dv1748-601',\n",
       "  'timestamp': 1672941274},\n",
       " {'sneaker url': 'https://www.goat.com/sneakers/dunk-low-gs-all-star-2023-dv1693-401',\n",
       "  'timestamp': 1672941274},\n",
       " {'sneaker url': 'https://www.goat.com/sneakers/wmns-air-jordan-14-retro-low-metallic-silver-dh4121-060',\n",
       "  'timestamp': 1672941274},\n",
       " {'sneaker url': 'https://www.goat.com/sneakers/air-max-97-og-metallic-gold-2023-dm0028-700',\n",
       "  'timestamp': 1672941274},\n",
       " {'sneaker url': 'https://www.goat.com/sneakers/air-deldon-1-safety-orange-dm4096-800',\n",
       "  'timestamp': 1672941274},\n",
       " {'sneaker url': 'https://www.goat.com/sneakers/air-jordan-5-retro-gs-aqua-440888-047',\n",
       "  'timestamp': 1672941274},\n",
       " {'sneaker url': 'https://www.goat.com/sneakers/air-force-1-low-gs-all-star-2023-dz4883-100',\n",
       "  'timestamp': 1672941274},\n",
       " {'sneaker url': 'https://www.goat.com/sneakers/air-jordan-2-retro-gs-lucky-green-dq8562-103',\n",
       "  'timestamp': 1672941274},\n",
       " {'sneaker url': 'https://www.goat.com/sneakers/air-jordan-6-retro-gs-cool-grey-384665-100',\n",
       "  'timestamp': 1672941274},\n",
       " {'sneaker url': 'https://www.goat.com/sneakers/marvel-x-air-jordan-1-retro-high-og-td-spider-man-across-the-spider-verse-dv1750-601',\n",
       "  'timestamp': 1672941274},\n",
       " {'sneaker url': 'https://www.goat.com/sneakers/marvel-x-air-jordan-1-retro-high-og-gs-spider-man-across-the-spider-verse-dv1753-601',\n",
       "  'timestamp': 1672941274},\n",
       " {'sneaker url': 'https://www.goat.com/sneakers/air-jordan-2-retro-ps-lucky-green-dq8564-103',\n",
       "  'timestamp': 1672941274},\n",
       " {'sneaker url': 'https://www.goat.com/sneakers/air-jordan-1-retro-high-og-lucky-green-dz5485-031',\n",
       "  'timestamp': 1672941274},\n",
       " {'sneaker url': 'https://www.goat.com/sneakers/air-jordan-5-retro-td-aqua-440890-047',\n",
       "  'timestamp': 1672941274},\n",
       " {'sneaker url': 'https://www.goat.com/sneakers/air-jordan-2-retro-td-lucky-green-dq8563-103',\n",
       "  'timestamp': 1672941274},\n",
       " {'sneaker url': 'https://www.goat.com/sneakers/zoom-kobe-4-protro-white-gold-emerald-fj9363-100',\n",
       "  'timestamp': 1672941274},\n",
       " {'sneaker url': 'https://www.goat.com/sneakers/air-jordan-1-retro-low-og-black-cement-cz0790-001',\n",
       "  'timestamp': 1672941274},\n",
       " {'sneaker url': 'https://www.goat.com/sneakers/marvel-x-air-jordan-1-retro-high-og-ps-spider-man-across-the-spider-verse-dv1749-601',\n",
       "  'timestamp': 1672941274},\n",
       " {'sneaker url': 'https://www.goat.com/sneakers/air-jordan-1-retro-high-og-gs-white-cement-fd1437-052',\n",
       "  'timestamp': 1672941274},\n",
       " {'sneaker url': 'https://www.goat.com/sneakers/air-jordan-1-retro-high-og-ps-reverse-laney-fd2597-700',\n",
       "  'timestamp': 1672941274},\n",
       " {'sneaker url': 'https://www.goat.com/sneakers/air-jordan-8-retro-playoff-2023-305381-062',\n",
       "  'timestamp': 1672941274},\n",
       " {'sneaker url': 'https://www.goat.com/sneakers/air-jordan-1-retro-high-og-washed-black-dz5485-051',\n",
       "  'timestamp': 1672941274},\n",
       " {'sneaker url': 'https://www.goat.com/sneakers/wmns-air-jordan-2-low-look-up-in-the-air-dx4401-146',\n",
       "  'timestamp': 1672941274},\n",
       " {'sneaker url': 'https://www.goat.com/sneakers/air-jordan-5-retro-se-craft-fd9222-180',\n",
       "  'timestamp': 1672941274},\n",
       " {'sneaker url': 'https://www.goat.com/sneakers/force-1-low-td-all-star-2023-fj3487-100',\n",
       "  'timestamp': 1672941274},\n",
       " {'sneaker url': 'https://www.goat.com/sneakers/air-jordan-5-retro-ps-aqua-440889-047',\n",
       "  'timestamp': 1672941274},\n",
       " {'sneaker url': 'https://www.goat.com/sneakers/wmns-air-jordan-3-retro-lucky-green-ck9646-136',\n",
       "  'timestamp': 1672941274}]"
      ]
     },
     "execution_count": 5,
     "metadata": {},
     "output_type": "execute_result"
    }
   ],
   "source": [
    "sneaker_urls = product_urls()\n",
    "sneaker_urls"
   ]
  },
  {
   "cell_type": "code",
   "execution_count": 10,
   "id": "3cb656ed",
   "metadata": {},
   "outputs": [],
   "source": [
    "sneaker_urls = ['https://www.goat.com/sneakers/air-force-1-low-color-of-the-month-white-silver-dz6755-100',\n",
    "'https://www.goat.com/sneakers/air-zoom-vomero-5-oatmeal-fb8825-111',\n",
    "'https://www.goat.com/sneakers/pokemon-x-rider-fv-bulbasaur-387324-01',\n",
    "'https://www.goat.com/sneakers/650r-white-green-bb650rwg',\n",
    "'https://www.goat.com/sneakers/nocta-x-air-force-1-low-certified-lover-boy-with-love-you-forever-book-cz8065-100-lyf-book',\n",
    "'https://www.goat.com/sneakers/air-max-penny-1-all-star-2022-dn2487-002',\n",
    "'https://www.goat.com/sneakers/wmns-9060-cream-blue-u9060wcg',\n",
    "'https://www.goat.com/sneakers/9060-truffle-rich-earth-u9060bcg',\n",
    "'https://www.goat.com/sneakers/650r-white-cloud-gray-bb650rwc',\n",
    "'https://www.goat.com/sneakers/air-zoom-flight-95-black-ale-brown-dv6994-001',\n",
    "'https://www.goat.com/sneakers/up-there-x-2002r-backyard-legends-ii-m2002rup',\n",
    "'https://www.goat.com/sneakers/jacquemus-x-wmns-air-humara-lx-hot-pink-dx9999-600',\n",
    "'https://www.goat.com/sneakers/wmns-air-force-1-mid-tokyo-2003-dz4865-503',\n",
    "'https://www.goat.com/sneakers/kd-15-brooklyn-graffiti-dc1975-005',\n",
    "'https://www.goat.com/sneakers/auralee-x-xc-72-camel-uxc72al',\n",
    "'https://www.goat.com/sneakers/auralee-x-xc-72-white-uxc72au',\n",
    "'https://www.goat.com/sneakers/nicole-mclaughlin-x-wmns-club-c-geo-mid-hp9260',\n",
    "'https://www.goat.com/sneakers/mb-02-rookie-of-the-year-377586-01',\n",
    "'https://www.goat.com/sneakers/dunk-high-gs-bright-spruce-volt-db2179-109',\n",
    "'https://www.goat.com/sneakers/mb-02-jr-rookie-of-the-year-377612-01']"
   ]
  },
  {
   "cell_type": "code",
   "execution_count": 6,
   "id": "f0614115",
   "metadata": {},
   "outputs": [],
   "source": [
    "#started run of timeline 2022 page of sneakers on 07/10/2022 16:03\n",
    "import json\n",
    "f = open('snkrtest.json', 'w', encoding = 'utf-8')\n",
    "for item in sneaker_urls:\n",
    "    f.write(json.dumps(item))\n",
    "    f.write('\\n')\n",
    "f.close()"
   ]
  },
  {
   "cell_type": "markdown",
   "id": "bc0496bf",
   "metadata": {},
   "source": [
    "# 4.Collect product info "
   ]
  },
  {
   "cell_type": "code",
   "execution_count": 7,
   "id": "b8c5007d",
   "metadata": {},
   "outputs": [],
   "source": [
    "def product_seeds():\n",
    "    content = open('snkrtest.json', 'r').readlines() # let's read in the seed data\n",
    "    counter = 0 # initialize counter to 0\n",
    "    # loop through all lines of the JSON file\n",
    "    for line in content:\n",
    "        counter = counter + 1\n",
    "        if counter>5: break\n",
    "        obj = json.loads(line)\n",
    "\n",
    "        # show URL for which product information needs to be captured\n",
    "        print(obj['sneaker url'])\n",
    "        # eventually sleep for a second\n",
    "        time.sleep(1)\n",
    "     ###############  "
   ]
  },
  {
   "cell_type": "code",
   "execution_count": 8,
   "id": "e786c8c2",
   "metadata": {},
   "outputs": [],
   "source": [
    "# try out to scrape product info from links\n",
    "import requests \n",
    "from bs4 import BeautifulSoup\n",
    "import re\n",
    "\n",
    "def product_info():\n",
    "    product_info = []\n",
    "    \n",
    "    \n",
    "    for url in sneaker_urls:\n",
    "        driver = webdriver.Chrome(ChromeDriverManager().install())\n",
    "        driver.get(url)\n",
    "        soup = BeautifulSoup(driver.page_source)\n",
    "        elements = soup.find_all(class_='swiper-slide swiper-slide-duplicate')\n",
    "            \n",
    "        price_and_size = []\n",
    "        if elements is not None:\n",
    "            try:  \n",
    "                el = elements[0]\n",
    "                for el in elements:\n",
    "                    attributes = str(el)\n",
    "                    attributes = attributes.replace(',', '')\n",
    "                    attr = []\n",
    "\n",
    "                    for item in re.findall(r'[>](.+?)[<]', attributes):\n",
    "                        attr.append(item)\n",
    "\n",
    "                    to_be_attached_price = {'size': attr[1], 'price': re.findall(r'€\\d+',attr[2],re.UNICODE)[0]}\n",
    "                    price_and_size.append(to_be_attached_price)  \n",
    "\n",
    "            except:\n",
    "                to_be_attached_price = \"None\"\n",
    "                price_and_size.append(to_be_attached_price)\n",
    "                \n",
    "            \n",
    "                 \n",
    "            \n",
    "        release_date = soup.find(attrs={\"data-qa\":\"release_date_sort_text\"})\n",
    "        if release_date is not None:\n",
    "            release_date = release_date.get_text()\n",
    "       \n",
    "                \n",
    "        designer = soup.find(attrs={\"data-qa\":\"designer_sort_text\"})\n",
    "        if designer is not None:\n",
    "            designer = designer.get_text()\n",
    "      \n",
    "                \n",
    "        main_color = soup.find(attrs={\"data-qa\":\"main_color_sort_text\"})\n",
    "        if main_color is not None:\n",
    "            main_color = main_color.get_text()\n",
    "        \n",
    "                \n",
    "        upper_material = soup.find(attrs={\"data-qa\":\"upper_material_sort_text\"})\n",
    "        if upper_material is not None:\n",
    "            upper_material = upper_material.get_text()\n",
    "\n",
    "                \n",
    "        category = soup.find(attrs={\"data-qa\":\"category_sort_text\"})\n",
    "        if category is not None:\n",
    "            category = category.get_text()\n",
    "                \n",
    "        technology = soup.find(attrs={\"data-qa\": \"technology_sort_text\"})\n",
    "        if technology is not None:\n",
    "            technology = technology.get_text()\n",
    "            \n",
    "            #featured in labels\n",
    "        try: \n",
    "            featured_in =  [x.get_text() for x in soup.find(class_ = 'WindowItemFeaturedIn__Wrapper-sc-81rn64-1 eLIHze').find_all('a')]\n",
    "            \n",
    "            try:\n",
    "                featured_in_1 = featured_in[0]    \n",
    "\n",
    "            except: \n",
    "                 featured_in_1 = \"None\"\n",
    "\n",
    "            try:\n",
    "                featured_in_2 = featured_in[1]    \n",
    "\n",
    "            except: \n",
    "                featured_in_2 = \"None\"\n",
    "\n",
    "            try:\n",
    "                featured_in_3 = featured_in[2]    \n",
    "\n",
    "            except: \n",
    "                featured_in_3 = \"None\"\n",
    "\n",
    "        except:\n",
    "            featured_in_1 = \"None\"\n",
    "            featured_in_2 = \"None\"\n",
    "            featured_in_3 = \"None\"\n",
    "                \n",
    "    \n",
    "\n",
    "        \n",
    "    \n",
    "        \n",
    "            #other shoe info\n",
    "        to_be_attached = {'release_date': release_date,\n",
    "                            'designer': designer,\n",
    "                            'main_color': main_color,\n",
    "                            'upper_material': upper_material,\n",
    "                            'category': category,\n",
    "                            'technology': technology,\n",
    "                            'featured_in_1': featured_in_1,\n",
    "                            'featured_in_2': featured_in_2,\n",
    "                            'featured_in_3': featured_in_3,\n",
    "                            'price_and_size': price_and_size}\n",
    "                    \n",
    "        product_info.append(to_be_attached) \n",
    "        \n",
    "                \n",
    "\n",
    "    return product_info\n"
   ]
  },
  {
   "cell_type": "code",
   "execution_count": 9,
   "id": "28939358",
   "metadata": {},
   "outputs": [
    {
     "name": "stdout",
     "output_type": "stream",
     "text": [
      "https://www.goat.com/sneakers/air-jordan-4-retro-se-craft-dv3742-021\n",
      "https://www.goat.com/sneakers/air-jordan-5-retro-unc-dv1310-401\n",
      "https://www.goat.com/sneakers/air-jordan-3-retro-white-cement-reimagined-dn3707-100\n",
      "https://www.goat.com/sneakers/air-jordan-1-retro-high-85-og-black-white-bq4422-001\n",
      "https://www.goat.com/sneakers/wmns-air-jordan-4-retro-seafoam-aq9129-103\n"
     ]
    }
   ],
   "source": [
    "all_sneaker_info = product_seeds()"
   ]
  },
  {
   "cell_type": "code",
   "execution_count": 10,
   "id": "e8e9ea09",
   "metadata": {},
   "outputs": [],
   "source": [
    "all_sneaker_info"
   ]
  },
  {
   "cell_type": "markdown",
   "id": "6ac14855",
   "metadata": {},
   "source": [
    "# 5.Write CSV file"
   ]
  },
  {
   "cell_type": "code",
   "execution_count": 48,
   "id": "7a942734",
   "metadata": {},
   "outputs": [
    {
     "ename": "TypeError",
     "evalue": "'NoneType' object is not iterable",
     "output_type": "error",
     "traceback": [
      "\u001b[1;31m---------------------------------------------------------------------------\u001b[0m",
      "\u001b[1;31mTypeError\u001b[0m                                 Traceback (most recent call last)",
      "Cell \u001b[1;32mIn [48], line 5\u001b[0m\n\u001b[0;32m      3\u001b[0m     writer\u001b[38;5;241m.\u001b[39mwriterow([\u001b[38;5;124m\"\u001b[39m\u001b[38;5;124mproduct_name\u001b[39m\u001b[38;5;124m\"\u001b[39m, \u001b[38;5;124m\"\u001b[39m\u001b[38;5;124mbrand\u001b[39m\u001b[38;5;124m\"\u001b[39m, \u001b[38;5;124m\"\u001b[39m\u001b[38;5;124mrelease_date\u001b[39m\u001b[38;5;124m\"\u001b[39m, \u001b[38;5;124m\"\u001b[39m\u001b[38;5;124mdesigner\u001b[39m\u001b[38;5;124m\"\u001b[39m, \u001b[38;5;124m\"\u001b[39m\u001b[38;5;124mmain_color\u001b[39m\u001b[38;5;124m\"\u001b[39m, \u001b[38;5;124m\"\u001b[39m\u001b[38;5;124mupper_material\u001b[39m\u001b[38;5;124m\"\u001b[39m, \u001b[38;5;124m\"\u001b[39m\u001b[38;5;124mcategory\u001b[39m\u001b[38;5;124m\"\u001b[39m, \u001b[38;5;124m\"\u001b[39m\u001b[38;5;124mtechnology\u001b[39m\u001b[38;5;124m\"\u001b[39m,\u001b[38;5;124m\"\u001b[39m\u001b[38;5;124mfeatured_in_1\u001b[39m\u001b[38;5;124m\"\u001b[39m, \u001b[38;5;124m\"\u001b[39m\u001b[38;5;124mfeatured_in_2\u001b[39m\u001b[38;5;124m\"\u001b[39m, \u001b[38;5;124m\"\u001b[39m\u001b[38;5;124mfeatured_in_3\u001b[39m\u001b[38;5;124m\"\u001b[39m, \u001b[38;5;124m\"\u001b[39m\u001b[38;5;124mprice_and_size\u001b[39m\u001b[38;5;124m\"\u001b[39m, \u001b[38;5;124m\"\u001b[39m\u001b[38;5;124mdate\u001b[39m\u001b[38;5;124m\"\u001b[39m])\n\u001b[0;32m      4\u001b[0m     timestamp \u001b[38;5;241m=\u001b[39m datetime\u001b[38;5;241m.\u001b[39mnow()\n\u001b[1;32m----> 5\u001b[0m     \u001b[38;5;28;01mfor\u001b[39;00m sneaker \u001b[38;5;129;01min\u001b[39;00m all_sneaker_info: \n\u001b[0;32m      6\u001b[0m         writer\u001b[38;5;241m.\u001b[39mwriterow([sneaker[\u001b[38;5;124m'\u001b[39m\u001b[38;5;124mrelease_date\u001b[39m\u001b[38;5;124m'\u001b[39m], sneaker[\u001b[38;5;124m'\u001b[39m\u001b[38;5;124mdesigner\u001b[39m\u001b[38;5;124m'\u001b[39m], sneaker[\u001b[38;5;124m'\u001b[39m\u001b[38;5;124mmain_color\u001b[39m\u001b[38;5;124m'\u001b[39m], sneaker[\u001b[38;5;124m'\u001b[39m\u001b[38;5;124mupper_material\u001b[39m\u001b[38;5;124m'\u001b[39m], sneaker[\u001b[38;5;124m\"\u001b[39m\u001b[38;5;124mcategory\u001b[39m\u001b[38;5;124m\"\u001b[39m], sneaker[\u001b[38;5;124m\"\u001b[39m\u001b[38;5;124mtechnology\u001b[39m\u001b[38;5;124m\"\u001b[39m],\n\u001b[0;32m      7\u001b[0m                          sneaker[\u001b[38;5;124m\"\u001b[39m\u001b[38;5;124mfeatured_in_1\u001b[39m\u001b[38;5;124m\"\u001b[39m], sneaker[\u001b[38;5;124m\"\u001b[39m\u001b[38;5;124mfeatured_in_2\u001b[39m\u001b[38;5;124m\"\u001b[39m], sneaker[\u001b[38;5;124m\"\u001b[39m\u001b[38;5;124mfeatured_in_3\u001b[39m\u001b[38;5;124m\"\u001b[39m], sneaker[\u001b[38;5;124m\"\u001b[39m\u001b[38;5;124mprice_and_size\u001b[39m\u001b[38;5;124m\"\u001b[39m], timestamp])\n\u001b[0;32m      8\u001b[0m \u001b[38;5;28mprint\u001b[39m(\u001b[38;5;124m'\u001b[39m\u001b[38;5;124mdone!\u001b[39m\u001b[38;5;124m'\u001b[39m)\n",
      "\u001b[1;31mTypeError\u001b[0m: 'NoneType' object is not iterable"
     ]
    }
   ],
   "source": [
    "with open(\"sneaker_test.csv\", \"w\", encoding = 'utf-8', newline='') as csv_file: \n",
    "    writer = csv.writer(csv_file, delimiter = \";\")\n",
    "    writer.writerow([\"product_name\", \"brand\", \"release_date\", \"designer\", \"main_color\", \"upper_material\", \"category\", \"technology\",\"featured_in_1\", \"featured_in_2\", \"featured_in_3\", \"price_and_size\", \"date\"])\n",
    "    timestamp = datetime.now()\n",
    "    for sneaker in all_sneaker_info: \n",
    "        writer.writerow([sneaker['release_date'], sneaker['designer'], sneaker['main_color'], sneaker['upper_material'], sneaker[\"category\"], sneaker[\"technology\"],\n",
    "                         sneaker[\"featured_in_1\"], sneaker[\"featured_in_2\"], sneaker[\"featured_in_3\"], sneaker[\"price_and_size\"], timestamp])\n",
    "print('done!')"
   ]
  },
  {
   "cell_type": "markdown",
   "id": "9037a2cd",
   "metadata": {},
   "source": [
    "# prototype stuff "
   ]
  },
  {
   "cell_type": "code",
   "execution_count": 3,
   "id": "70099a53",
   "metadata": {},
   "outputs": [
    {
     "ename": "NameError",
     "evalue": "name 'sneaker_test' is not defined",
     "output_type": "error",
     "traceback": [
      "\u001b[1;31m---------------------------------------------------------------------------\u001b[0m",
      "\u001b[1;31mNameError\u001b[0m                                 Traceback (most recent call last)",
      "\u001b[1;32m~\\AppData\\Local\\Temp/ipykernel_34992/1469000890.py\u001b[0m in \u001b[0;36m<module>\u001b[1;34m\u001b[0m\n\u001b[0;32m      1\u001b[0m \u001b[1;32mimport\u001b[0m \u001b[0mpandas\u001b[0m \u001b[1;32mas\u001b[0m \u001b[0mpd\u001b[0m\u001b[1;33m\u001b[0m\u001b[1;33m\u001b[0m\u001b[0m\n\u001b[1;32m----> 2\u001b[1;33m \u001b[0mdf\u001b[0m \u001b[1;33m=\u001b[0m \u001b[0mpd\u001b[0m\u001b[1;33m.\u001b[0m\u001b[0mjson_normalize\u001b[0m\u001b[1;33m(\u001b[0m\u001b[0msneaker_test\u001b[0m\u001b[1;33m.\u001b[0m\u001b[0mcsv\u001b[0m\u001b[1;33m)\u001b[0m\u001b[1;33m\u001b[0m\u001b[1;33m\u001b[0m\u001b[0m\n\u001b[0m\u001b[0;32m      3\u001b[0m \u001b[0mprint\u001b[0m\u001b[1;33m(\u001b[0m\u001b[0mdf\u001b[0m\u001b[1;33m)\u001b[0m\u001b[1;33m\u001b[0m\u001b[1;33m\u001b[0m\u001b[0m\n",
      "\u001b[1;31mNameError\u001b[0m: name 'sneaker_test' is not defined"
     ]
    }
   ],
   "source": [
    "#import pandas as pd\n",
    "#df = pd.json_normalize(sneaker_test.csv)\n",
    "#print(df)"
   ]
  },
  {
   "cell_type": "code",
   "execution_count": 11,
   "id": "8abb4f58",
   "metadata": {},
   "outputs": [],
   "source": [
    "#build loop for all the years\n",
    "#def collect_years():\n",
    "    #year_urls = []  \n",
    "    #for el in soup.find_all(attrs={\"data-qa\" : \"time_period_2021\"}):\n",
    "        #base_url = 'https://www.goat.com'\n",
    "        #year_url = el.find('a')['href']\n",
    "        #year_url = base_url + sneaker_url \n",
    "        #year_urls.append(sneaker_url)  \n",
    "\n",
    "    #return year_urls\n",
    "\n",
    "\n",
    "    "
   ]
  },
  {
   "cell_type": "code",
   "execution_count": 3,
   "id": "4ece74a7",
   "metadata": {},
   "outputs": [
    {
     "ename": "AttributeError",
     "evalue": "'WebDriver' object has no attribute 'find_elements_by_class_name'",
     "output_type": "error",
     "traceback": [
      "\u001b[1;31m---------------------------------------------------------------------------\u001b[0m",
      "\u001b[1;31mAttributeError\u001b[0m                            Traceback (most recent call last)",
      "\u001b[1;32m~\\AppData\\Local\\Temp/ipykernel_27884/222131034.py\u001b[0m in \u001b[0;36m<module>\u001b[1;34m\u001b[0m\n\u001b[0;32m     10\u001b[0m \u001b[0mkeyword\u001b[0m \u001b[1;33m=\u001b[0m \u001b[1;34m\"filter_option\"\u001b[0m\u001b[1;33m\u001b[0m\u001b[1;33m\u001b[0m\u001b[0m\n\u001b[0;32m     11\u001b[0m \u001b[1;33m\u001b[0m\u001b[0m\n\u001b[1;32m---> 12\u001b[1;33m \u001b[0mbrand_search\u001b[0m \u001b[1;33m=\u001b[0m \u001b[0mdriver\u001b[0m\u001b[1;33m.\u001b[0m\u001b[0mfind_elements_by_class_name\u001b[0m\u001b[1;33m(\u001b[0m\u001b[1;34m'SearchStyles__SearchFilterDesktopCollapsible-sc-1q5jno3-4 eWLavI'\u001b[0m\u001b[1;33m)\u001b[0m\u001b[1;33m\u001b[0m\u001b[1;33m\u001b[0m\u001b[0m\n\u001b[0m\u001b[0;32m     13\u001b[0m \u001b[0msleep\u001b[0m\u001b[1;33m(\u001b[0m\u001b[1;36m2\u001b[0m\u001b[1;33m)\u001b[0m\u001b[1;33m\u001b[0m\u001b[1;33m\u001b[0m\u001b[0m\n\u001b[0;32m     14\u001b[0m \u001b[0mbrand_search\u001b[0m\u001b[1;33m.\u001b[0m\u001b[0mclick\u001b[0m\u001b[1;33m(\u001b[0m\u001b[1;33m)\u001b[0m\u001b[1;33m\u001b[0m\u001b[1;33m\u001b[0m\u001b[0m\n",
      "\u001b[1;31mAttributeError\u001b[0m: 'WebDriver' object has no attribute 'find_elements_by_class_name'"
     ]
    }
   ],
   "source": [
    "# Function to let the page click a brand and unclick it after collecting all the seeds\n",
    "driver.get(\"https://www.goat.com/timeline/2022?brand=li+ning\")\n",
    "res = driver.page_source.encode('utf-8')\n",
    "soup = BeautifulSoup(driver.page_source)\n",
    "\n",
    "brands = soup.find(attrs={\"data-qa\" :\"search_filter_list\"})\n",
    "if brands is not None:\n",
    "        brands = brands.get_text()\n",
    "        \n",
    "keyword = \"filter_option\"\n",
    "\n",
    "brand_search = driver.find_elements_by_class_name('SearchStyles__SearchFilterDesktopCollapsible-sc-1q5jno3-4 eWLavI')\n",
    "sleep(2)\n",
    "brand_search.click()"
   ]
  },
  {
   "cell_type": "code",
   "execution_count": 44,
   "id": "6bb1ffd5",
   "metadata": {},
   "outputs": [
    {
     "ename": "IndentationError",
     "evalue": "unexpected indent (Temp/ipykernel_27884/1331420002.py, line 5)",
     "output_type": "error",
     "traceback": [
      "\u001b[1;36m  File \u001b[1;32m\"C:\\Users\\sjoer\\AppData\\Local\\Temp/ipykernel_27884/1331420002.py\"\u001b[1;36m, line \u001b[1;32m5\u001b[0m\n\u001b[1;33m    name = name.get_text()\u001b[0m\n\u001b[1;37m    ^\u001b[0m\n\u001b[1;31mIndentationError\u001b[0m\u001b[1;31m:\u001b[0m unexpected indent\n"
     ]
    }
   ],
   "source": [
    "soup = BeautifulSoup(driver.page_source)\n",
    "\n",
    "\n",
    "name = soup.find(attrs={\"data-qa\":\"grid_cell_product_release_date\"})\n",
    "if name is not None:\n",
    "    name = name.get_text()\n",
    "    \n",
    "    name\n",
    "    "
   ]
  }
 ],
 "metadata": {
  "kernelspec": {
   "display_name": "Python 3 (ipykernel)",
   "language": "python",
   "name": "python3"
  },
  "language_info": {
   "codemirror_mode": {
    "name": "ipython",
    "version": 3
   },
   "file_extension": ".py",
   "mimetype": "text/x-python",
   "name": "python",
   "nbconvert_exporter": "python",
   "pygments_lexer": "ipython3",
   "version": "3.9.7"
  },
  "vscode": {
   "interpreter": {
    "hash": "8773a3c56c4d15bdf3f5fb3b4713d96c2dee42354b1362bc867468632c8854d5"
   }
  }
 },
 "nbformat": 4,
 "nbformat_minor": 5
}
